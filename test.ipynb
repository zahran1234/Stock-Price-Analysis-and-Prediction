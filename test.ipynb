{
 "cells": [
  {
   "cell_type": "code",
   "execution_count": 34,
   "metadata": {},
   "outputs": [],
   "source": [
    "import yfinance as yf\n",
    "import numpy as np\n",
    "import pandas as pd\n",
    "from sklearn.preprocessing import MinMaxScaler\n",
    "from keras.models import Sequential\n",
    "from keras.layers import Dense, LSTM , Dropout\n",
    "\n",
    "def train_and_predication(stock_symbol):\n",
    "    time_steps=100\n",
    "    # Get the number of historical data days\n",
    "    ticker = yf.Ticker(stock_symbol)\n",
    "    num_historical_days = len(ticker.history(period='max'))\n",
    "    \n",
    "    if 3000> num_historical_days:\n",
    "        data = ticker.history(period=str(num_historical_days)+\"d\", actions=True)\n",
    "    else:\n",
    "        data = ticker.history(period='7000d', actions=True)\n",
    "    # Select the specified features for prediction\n",
    "    features=[ 'Close']\n",
    "    dataset = data[features].values\n",
    "    from sklearn.preprocessing import MinMaxScaler\n",
    "\n",
    "    x_train=[]\n",
    "    y_train = []\n",
    "    for i in  range(0 ,len(dataset)-(time_steps+1)):\n",
    "        x_train.append(dataset[i:i+time_steps])\n",
    "        y_train.append(dataset[i+time_steps][0])\n",
    "    x_train=np.array(x_train)\n",
    "    y_train=np.array(y_train)\n",
    "        # Build LSTM model\n",
    "    model = Sequential()\n",
    "    model.add(LSTM(units=300, return_sequences=True, input_shape=(x_train.shape[1], len(features))))\n",
    "    model.add(LSTM(units=120, return_sequences=True))\n",
    "    model.add(LSTM(units=30, return_sequences=False))\n",
    "    #model.add(Dense(units=100, activation='relu'))\n",
    "    #model.add(Dropout(0.2))  # Adding dropout for regularization\n",
    "    #model.add(Dense(units=50, activation='relu'))\n",
    "    model.add(Dense(units=1))\n",
    "    model.compile(optimizer='adam', loss='mean_squared_error')\n",
    "    # Train the model\n",
    "    model.fit(x_train, y_train, batch_size=64, epochs=30)\n",
    "    return model"
   ]
  },
  {
   "cell_type": "code",
   "execution_count": 35,
   "metadata": {},
   "outputs": [
    {
     "name": "stdout",
     "output_type": "stream",
     "text": [
      "Epoch 1/30\n",
      "76/76 [==============================] - 37s 349ms/step - loss: 2946.7012\n",
      "Epoch 2/30\n",
      "76/76 [==============================] - 30s 402ms/step - loss: 2684.5520\n",
      "Epoch 3/30\n",
      "76/76 [==============================] - 32s 416ms/step - loss: 2529.5562\n",
      "Epoch 4/30\n",
      "76/76 [==============================] - 33s 433ms/step - loss: 2397.1101\n",
      "Epoch 5/30\n",
      "76/76 [==============================] - 29s 385ms/step - loss: 2281.2026\n",
      "Epoch 6/30\n",
      "76/76 [==============================] - 30s 400ms/step - loss: 2178.6155\n",
      "Epoch 7/30\n",
      "76/76 [==============================] - 34s 452ms/step - loss: 2088.7522\n",
      "Epoch 8/30\n",
      "76/76 [==============================] - 30s 397ms/step - loss: 2010.8657\n",
      "Epoch 9/30\n",
      "76/76 [==============================] - 31s 405ms/step - loss: 1941.9465\n",
      "Epoch 10/30\n",
      "76/76 [==============================] - 35s 463ms/step - loss: 1882.7305\n",
      "Epoch 11/30\n",
      "76/76 [==============================] - 29s 382ms/step - loss: 1831.5070\n",
      "Epoch 12/30\n",
      "76/76 [==============================] - 30s 396ms/step - loss: 1787.1572\n",
      "Epoch 13/30\n",
      "76/76 [==============================] - 30s 391ms/step - loss: 1749.0676\n",
      "Epoch 14/30\n",
      "76/76 [==============================] - 34s 447ms/step - loss: 1716.8586\n",
      "Epoch 15/30\n",
      "76/76 [==============================] - 36s 469ms/step - loss: 1690.0992\n",
      "Epoch 16/30\n",
      "76/76 [==============================] - 28s 370ms/step - loss: 1666.8319\n",
      "Epoch 17/30\n",
      "76/76 [==============================] - 29s 381ms/step - loss: 1452.1761\n",
      "Epoch 18/30\n",
      "76/76 [==============================] - 30s 395ms/step - loss: 1320.1661\n",
      "Epoch 19/30\n",
      "76/76 [==============================] - 30s 395ms/step - loss: 1244.2465\n",
      "Epoch 20/30\n",
      "76/76 [==============================] - 33s 432ms/step - loss: 1175.4860\n",
      "Epoch 21/30\n",
      "76/76 [==============================] - 34s 448ms/step - loss: 1110.4359\n",
      "Epoch 22/30\n",
      "76/76 [==============================] - 35s 457ms/step - loss: 1050.6525\n",
      "Epoch 23/30\n",
      "76/76 [==============================] - 37s 487ms/step - loss: 994.3714\n",
      "Epoch 24/30\n",
      "76/76 [==============================] - 37s 494ms/step - loss: 942.3386\n",
      "Epoch 25/30\n",
      "76/76 [==============================] - 36s 477ms/step - loss: 894.7563\n",
      "Epoch 26/30\n",
      "76/76 [==============================] - 30s 398ms/step - loss: 849.2924\n",
      "Epoch 27/30\n",
      "76/76 [==============================] - 29s 382ms/step - loss: 806.7570\n",
      "Epoch 28/30\n",
      "76/76 [==============================] - 29s 380ms/step - loss: 767.2034\n",
      "Epoch 29/30\n",
      "76/76 [==============================] - 29s 383ms/step - loss: 730.3196\n",
      "Epoch 30/30\n",
      "76/76 [==============================] - 29s 382ms/step - loss: 693.0571\n"
     ]
    }
   ],
   "source": [
    "model=train_and_predication(\"GOOG\")\n",
    "\n"
   ]
  },
  {
   "cell_type": "code",
   "execution_count": 37,
   "metadata": {},
   "outputs": [],
   "source": [
    "features=[ 'Close']\n",
    "stock_symbol=\"GOOG\"\n",
    "ticker = yf.Ticker(stock_symbol)\n",
    "last_days=data = ticker.history(period='100d', actions=True)\n",
    "last_days=last_days[features].values\n",
    "last_days=last_days.reshape(1, 100, -1)\n",
    "\n"
   ]
  },
  {
   "cell_type": "code",
   "execution_count": 38,
   "metadata": {},
   "outputs": [
    {
     "name": "stdout",
     "output_type": "stream",
     "text": [
      "1/1 [==============================] - 6s 6s/step\n"
     ]
    },
    {
     "data": {
      "text/plain": [
       "array([[60.272465]], dtype=float32)"
      ]
     },
     "execution_count": 38,
     "metadata": {},
     "output_type": "execute_result"
    }
   ],
   "source": [
    "model.predict(last_days)\n"
   ]
  },
  {
   "cell_type": "code",
   "execution_count": 33,
   "metadata": {},
   "outputs": [
    {
     "name": "stdout",
     "output_type": "stream",
     "text": [
      "Number of historical data days for GOOG: 4910\n"
     ]
    }
   ],
   "source": [
    "import yfinance as yf\n",
    "\n",
    "# Replace 'AAPL' with the stock symbol you're interested in\n",
    "stock_symbol = 'GOOG'\n",
    "\n",
    "# Create Ticker object\n",
    "ticker = yf.Ticker(stock_symbol)\n",
    "\n",
    "# Fetch historical data for a specific period\n",
    "data = ticker.history(period='max')\n",
    "\n",
    "# Get the number of historical data days\n",
    "num_historical_days = len(data)\n",
    "\n",
    "print(f\"Number of historical data days for {stock_symbol}: {num_historical_days}\")\n"
   ]
  }
 ],
 "metadata": {
  "kernelspec": {
   "display_name": "Python 3",
   "language": "python",
   "name": "python3"
  },
  "language_info": {
   "codemirror_mode": {
    "name": "ipython",
    "version": 3
   },
   "file_extension": ".py",
   "mimetype": "text/x-python",
   "name": "python",
   "nbconvert_exporter": "python",
   "pygments_lexer": "ipython3",
   "version": "3.11.4"
  }
 },
 "nbformat": 4,
 "nbformat_minor": 2
}
